{
 "cells": [
  {
   "cell_type": "markdown",
   "id": "cfdae11e",
   "metadata": {},
   "source": [
    "# 2282437\n",
    "# Zaid Shariff\n",
    "# Lab - 1 "
   ]
  },
  {
   "cell_type": "markdown",
   "id": "c20c2b92",
   "metadata": {},
   "source": [
    "Binary Activation"
   ]
  },
  {
   "cell_type": "code",
   "execution_count": 1,
   "id": "f7bc7879",
   "metadata": {},
   "outputs": [
    {
     "name": "stdout",
     "output_type": "stream",
     "text": [
      "Trained Weights and Bias:\n",
      "Weight 1: 0.4179742437011622\n",
      "Weight 2: 0.8183709821137558\n",
      "Bias: -0.3216082608782438\n",
      "Perceptron Output:\n",
      "Input: (0, 0) -> Output: 0\n",
      "Input: (0, 1) -> Output: 1\n",
      "Input: (1, 0) -> Output: 1\n",
      "Input: (1, 1) -> Output: 1\n"
     ]
    }
   ],
   "source": [
    "import random\n",
    "\n",
    "# Define the training data (OR gate inputs and corresponding outputs)\n",
    "training_data = [((0, 0), 0), ((0, 1), 1), ((1, 0), 1), ((1, 1), 1)]\n",
    "\n",
    "# Initialize weights and bias with random values\n",
    "weight1 = random.uniform(-1, 1)\n",
    "weight2 = random.uniform(-1, 1)\n",
    "bias = random.uniform(-1, 1)\n",
    "\n",
    "# Learning rate\n",
    "learning_rate = 0.1\n",
    "\n",
    "# Training the perceptron\n",
    "epochs = 10000\n",
    "for epoch in range(epochs):\n",
    "    for inputs, target in training_data:\n",
    "        # Calculate the weighted sum of inputs and bias\n",
    "        weighted_sum = inputs[0] * weight1 + inputs[1] * weight2 + bias\n",
    "        # Calculate the perceptron's output\n",
    "        output = 1 if weighted_sum >= 0 else 0\n",
    "        # Update weights and bias based on the error\n",
    "        weight1 += learning_rate * (target - output) * inputs[0]\n",
    "        weight2 += learning_rate * (target - output) * inputs[1]\n",
    "        bias += learning_rate * (target - output)\n",
    "        \n",
    "# Test the trained perceptron\n",
    "print(\"Trained Weights and Bias:\")\n",
    "print(\"Weight 1:\", weight1)\n",
    "print(\"Weight 2:\", weight2)\n",
    "print(\"Bias:\", bias)\n",
    "\n",
    "# Test the perceptron with OR gate inputs\n",
    "input_pairs = [(0, 0), (0, 1), (1, 0), (1, 1)]\n",
    "\n",
    "print(\"Perceptron Output:\")\n",
    "for input_pair in input_pairs:\n",
    "    weighted_sum = input_pair[0] * weight1 + input_pair[1] * weight2 + bias\n",
    "    output = 1 if weighted_sum >= 0 else 0\n",
    "    print(f\"Input: {input_pair} -> Output: {output}\")\n"
   ]
  },
  {
   "cell_type": "markdown",
   "id": "7dba1bb9",
   "metadata": {},
   "source": [
    "Bipolar Activation"
   ]
  },
  {
   "cell_type": "code",
   "execution_count": 2,
   "id": "6b5aaae8",
   "metadata": {},
   "outputs": [
    {
     "name": "stdout",
     "output_type": "stream",
     "text": [
      "Trained Weights and Bias:\n",
      "Weight 1: 0.24532198690528562\n",
      "Weight 2: 0.49373943167720724\n",
      "Bias: -0.12128036692236388\n",
      "Perceptron Output:\n",
      "Input: (0, 0) -> Output: -1\n",
      "Input: (0, 1) -> Output: 1\n",
      "Input: (1, 0) -> Output: 1\n",
      "Input: (1, 1) -> Output: 1\n"
     ]
    }
   ],
   "source": [
    "import random\n",
    "\n",
    "# Define the training data (OR gate inputs and corresponding outputs)\n",
    "training_data = [((0, 0), -1), ((0, 1), 1), ((1, 0), 1), ((1, 1), 1)]\n",
    "\n",
    "# Initialize weights and bias with random values\n",
    "weight1 = random.uniform(-1, 1)\n",
    "weight2 = random.uniform(-1, 1)\n",
    "bias = random.uniform(-1, 1)\n",
    "\n",
    "# Learning rate\n",
    "learning_rate = 0.1\n",
    "\n",
    "# Training the perceptron\n",
    "epochs = 10000\n",
    "for epoch in range(epochs):\n",
    "    for inputs, target in training_data:\n",
    "        # Calculate the weighted sum of inputs and bias\n",
    "        weighted_sum = inputs[0] * weight1 + inputs[1] * weight2 + bias\n",
    "        # Calculate the perceptron's output\n",
    "        output = 1 if weighted_sum >= 0 else -1\n",
    "        # Update weights and bias based on the error\n",
    "        weight1 += learning_rate * (target - output) * inputs[0]\n",
    "        weight2 += learning_rate * (target - output) * inputs[1]\n",
    "        bias += learning_rate * (target - output)\n",
    "        \n",
    "# Test the trained perceptron\n",
    "print(\"Trained Weights and Bias:\")\n",
    "print(\"Weight 1:\", weight1)\n",
    "print(\"Weight 2:\", weight2)\n",
    "print(\"Bias:\", bias)\n",
    "\n",
    "# Test the perceptron with OR gate inputs\n",
    "input_pairs = [(0, 0), (0, 1), (1, 0), (1, 1)]\n",
    "\n",
    "print(\"Perceptron Output:\")\n",
    "for input_pair in input_pairs:\n",
    "    weighted_sum = input_pair[0] * weight1 + input_pair[1] * weight2 + bias\n",
    "    output = 1 if weighted_sum >= 0 else -1\n",
    "    print(f\"Input: {input_pair} -> Output: {output}\")\n"
   ]
  }
 ],
 "metadata": {
  "kernelspec": {
   "display_name": "Python 3 (ipykernel)",
   "language": "python",
   "name": "python3"
  },
  "language_info": {
   "codemirror_mode": {
    "name": "ipython",
    "version": 3
   },
   "file_extension": ".py",
   "mimetype": "text/x-python",
   "name": "python",
   "nbconvert_exporter": "python",
   "pygments_lexer": "ipython3",
   "version": "3.10.8"
  }
 },
 "nbformat": 4,
 "nbformat_minor": 5
}
